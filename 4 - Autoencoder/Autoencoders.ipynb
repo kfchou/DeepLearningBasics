{
 "cells": [
  {
   "cell_type": "markdown",
   "metadata": {},
   "source": [
    "# Autoencoders\n",
    "A notebook based on the [blog by Francois Chollet (2016)](https://blog.keras.io/building-autoencoders-in-keras.html). Readers are encouraged to read the detailed blog post describing what autoencoders are and what they're used for. I'll try to provide a brief summary here, along with my own comments. Images are mine."
   ]
  },
  {
   "cell_type": "markdown",
   "metadata": {},
   "source": [
    "## Introduction\n",
    "Autoencoders are a class of *self-supervised* learning algorithm. It is self-supervised in a sense that the targets are generated from the input data. Its architecture forces the network to learn *features* from the inputs, and attempts to reconstruct the inputs using a decoding network.\n",
    "\n",
    "In order to learn interesting features, we must come up with interesting loss functions. For example, merely trying to reconstruct every detail of an input image may not be conducive to the network learning interesting abstract features in our images. For this reason, reconstructions can be quite lossy, and that's ok.\n",
    "\n",
    "But remember, just like other neural nets, the **features learned by autoencoders are specific to the data on which it was trained**.\n",
    "\n",
    "### Applications of Autoencoders\n",
    "\n",
    "* **Data Denoising**\n",
    "* **Dimensionality reduction**: t-SNE is a great algorithm for visualizing relatively low-dimensional (e.g., $\\mathbb{R}^{32}$) data in 2D. If your data has much more dimensions than that, then you can use autoencoders to \"reduce\" the dimensionality of your data first. Autoencoders can learn more interesting representations than PCA or other basic techniques.\n",
    "* **Analysis of latent variables in a dataset** (see VAEs): If we're working with a dataset of faces, latent variables may represent skintone, gender, pose, illumination, etc. We can estimate the distribution of latent variables using autoencoders. If the distribution of a latent variable is skewed (or gaussian), then we can assume our input is not sufficiently diverse w.r.t. that attribute. To avoid bias, we should collect (or generate) a more balanced training dataset such that the distribution of that latent variable is more uniform."
   ]
  },
  {
   "cell_type": "markdown",
   "metadata": {},
   "source": [
    "# 1. The simplest of all autoencoders\n",
    "<img src=\"AE_basic.jpg\" width=\"650\" />"
   ]
  },
  {
   "cell_type": "code",
   "execution_count": 1,
   "metadata": {},
   "outputs": [],
   "source": [
    "import keras\n",
    "from keras import layers\n",
    "\n",
    "# This is the size of our encoded representations\n",
    "encoding_dim = 32  # 32 floats -> compression of factor 24.5, assuming the input is 784 floats\n",
    "\n",
    "# This is our input image\n",
    "input_img = keras.Input(shape=(784,))\n",
    "# \"encoded\" is the encoded representation of the input\n",
    "encoded = layers.Dense(encoding_dim, activation='relu')(input_img)\n",
    "# \"decoded\" is the lossy reconstruction of the input\n",
    "decoded = layers.Dense(784, activation='sigmoid')(encoded)\n",
    "\n",
    "# This model maps an input to its reconstruction\n",
    "autoencoder = keras.Model(input_img, decoded)"
   ]
  },
  {
   "cell_type": "markdown",
   "metadata": {},
   "source": [
    "That's the basic encoder - two fully connected layers. Let's also create separate encoder and decoder models."
   ]
  },
  {
   "cell_type": "code",
   "execution_count": 2,
   "metadata": {},
   "outputs": [],
   "source": [
    "# Encoder = input -> encoder layer -> z\n",
    "# This model maps an input to its encoded representation\n",
    "encoder = keras.Model(input_img, encoded)\n",
    "\n",
    "# Decoder = z -> decoder layer -> reconstruction\n",
    "# This is our encoded (32-dimensional) input\n",
    "encoded_input = keras.Input(shape=(encoding_dim,))\n",
    "# Retrieve the last layer of the autoencoder model\n",
    "decoder_layer = autoencoder.layers[-1]\n",
    "# Create the decoder model\n",
    "decoder = keras.Model(encoded_input, decoder_layer(encoded_input))"
   ]
  },
  {
   "cell_type": "markdown",
   "metadata": {},
   "source": [
    "We'll use the MNIST dataset in these examples. Luckily, they're included in the Keras package."
   ]
  },
  {
   "cell_type": "code",
   "execution_count": 3,
   "metadata": {},
   "outputs": [
    {
     "name": "stdout",
     "output_type": "stream",
     "text": [
      "(60000, 28, 28)\n",
      "(10000, 28, 28)\n",
      "255 0\n"
     ]
    }
   ],
   "source": [
    "from keras.datasets import mnist\n",
    "import numpy as np\n",
    "(x_train, _), (x_test, _) = mnist.load_data()\n",
    "\n",
    "print(x_train.shape)\n",
    "print(x_test.shape)\n",
    "print(np.max(x_train), np.min(x_train))"
   ]
  },
  {
   "cell_type": "markdown",
   "metadata": {},
   "source": [
    "There are 60k training examples, 10k test examples, each are 28x28 images.\n",
    "\n",
    "As always, normalize the data, and get it into the right shape."
   ]
  },
  {
   "cell_type": "code",
   "execution_count": 4,
   "metadata": {},
   "outputs": [
    {
     "name": "stdout",
     "output_type": "stream",
     "text": [
      "(60000, 784)\n",
      "(10000, 784)\n"
     ]
    }
   ],
   "source": [
    "x_train = x_train.astype('float32') / 255.\n",
    "x_test = x_test.astype('float32') / 255.\n",
    "x_train = x_train.reshape((len(x_train), np.prod(x_train.shape[1:])))\n",
    "x_test = x_test.reshape((len(x_test), np.prod(x_test.shape[1:])))\n",
    "print(x_train.shape)\n",
    "print(x_test.shape)"
   ]
  },
  {
   "cell_type": "markdown",
   "metadata": {},
   "source": [
    "Let's train our autoencoder for 50 epochs. Here, we'll naively use a per-pixel binary crossentropy loss."
   ]
  },
  {
   "cell_type": "code",
   "execution_count": 5,
   "metadata": {
    "scrolled": true
   },
   "outputs": [
    {
     "name": "stdout",
     "output_type": "stream",
     "text": [
      "Epoch 1/50\n",
      "235/235 [==============================] - 2s 5ms/step - loss: 0.3841 - val_loss: 0.1903\n",
      "Epoch 2/50\n",
      "235/235 [==============================] - 1s 4ms/step - loss: 0.1797 - val_loss: 0.1532\n",
      "Epoch 3/50\n",
      "235/235 [==============================] - 1s 4ms/step - loss: 0.1487 - val_loss: 0.1339\n",
      "Epoch 4/50\n",
      "235/235 [==============================] - 1s 4ms/step - loss: 0.1319 - val_loss: 0.1216\n",
      "Epoch 5/50\n",
      "235/235 [==============================] - 1s 4ms/step - loss: 0.1206 - val_loss: 0.1132\n",
      "Epoch 6/50\n",
      "235/235 [==============================] - 1s 4ms/step - loss: 0.1129 - val_loss: 0.1071\n",
      "Epoch 7/50\n",
      "235/235 [==============================] - 1s 4ms/step - loss: 0.1074 - val_loss: 0.1028\n",
      "Epoch 8/50\n",
      "235/235 [==============================] - 1s 4ms/step - loss: 0.1032 - val_loss: 0.0996\n",
      "Epoch 9/50\n",
      "235/235 [==============================] - 1s 4ms/step - loss: 0.1003 - val_loss: 0.0972\n",
      "Epoch 10/50\n",
      "235/235 [==============================] - 1s 4ms/step - loss: 0.0980 - val_loss: 0.0957\n",
      "Epoch 11/50\n",
      "235/235 [==============================] - 1s 4ms/step - loss: 0.0965 - val_loss: 0.0945\n",
      "Epoch 12/50\n",
      "235/235 [==============================] - 1s 4ms/step - loss: 0.0956 - val_loss: 0.0939\n",
      "Epoch 13/50\n",
      "235/235 [==============================] - 1s 4ms/step - loss: 0.0952 - val_loss: 0.0934\n",
      "Epoch 14/50\n",
      "235/235 [==============================] - 1s 4ms/step - loss: 0.0946 - val_loss: 0.0931\n",
      "Epoch 15/50\n",
      "235/235 [==============================] - 1s 4ms/step - loss: 0.0943 - val_loss: 0.0928\n",
      "Epoch 16/50\n",
      "235/235 [==============================] - 1s 4ms/step - loss: 0.0942 - val_loss: 0.0927\n",
      "Epoch 17/50\n",
      "235/235 [==============================] - 1s 4ms/step - loss: 0.0940 - val_loss: 0.0925\n",
      "Epoch 18/50\n",
      "235/235 [==============================] - 1s 4ms/step - loss: 0.0938 - val_loss: 0.0924\n",
      "Epoch 19/50\n",
      "235/235 [==============================] - 1s 4ms/step - loss: 0.0937 - val_loss: 0.0924\n",
      "Epoch 20/50\n",
      "235/235 [==============================] - 1s 4ms/step - loss: 0.0935 - val_loss: 0.0922\n",
      "Epoch 21/50\n",
      "235/235 [==============================] - 1s 4ms/step - loss: 0.0933 - val_loss: 0.0922\n",
      "Epoch 22/50\n",
      "235/235 [==============================] - 1s 4ms/step - loss: 0.0932 - val_loss: 0.0921\n",
      "Epoch 23/50\n",
      "235/235 [==============================] - 1s 4ms/step - loss: 0.0934 - val_loss: 0.0922\n",
      "Epoch 24/50\n",
      "235/235 [==============================] - 1s 4ms/step - loss: 0.0933 - val_loss: 0.0920\n",
      "Epoch 25/50\n",
      "235/235 [==============================] - 1s 4ms/step - loss: 0.0932 - val_loss: 0.0921\n",
      "Epoch 26/50\n",
      "235/235 [==============================] - 1s 4ms/step - loss: 0.0932 - val_loss: 0.0919\n",
      "Epoch 27/50\n",
      "235/235 [==============================] - 1s 4ms/step - loss: 0.0930 - val_loss: 0.0919\n",
      "Epoch 28/50\n",
      "235/235 [==============================] - 1s 4ms/step - loss: 0.0931 - val_loss: 0.0919\n",
      "Epoch 29/50\n",
      "235/235 [==============================] - 1s 4ms/step - loss: 0.0932 - val_loss: 0.0919\n",
      "Epoch 30/50\n",
      "235/235 [==============================] - 1s 4ms/step - loss: 0.0932 - val_loss: 0.0918\n",
      "Epoch 31/50\n",
      "235/235 [==============================] - 1s 4ms/step - loss: 0.0931 - val_loss: 0.0918\n",
      "Epoch 32/50\n",
      "235/235 [==============================] - 1s 4ms/step - loss: 0.0928 - val_loss: 0.0918\n",
      "Epoch 33/50\n",
      "235/235 [==============================] - 1s 4ms/step - loss: 0.0929 - val_loss: 0.0917\n",
      "Epoch 34/50\n",
      "235/235 [==============================] - 1s 4ms/step - loss: 0.0928 - val_loss: 0.0917\n",
      "Epoch 35/50\n",
      "235/235 [==============================] - 1s 4ms/step - loss: 0.0926 - val_loss: 0.0917\n",
      "Epoch 36/50\n",
      "235/235 [==============================] - 1s 4ms/step - loss: 0.0927 - val_loss: 0.0917\n",
      "Epoch 37/50\n",
      "235/235 [==============================] - 1s 4ms/step - loss: 0.0928 - val_loss: 0.0917\n",
      "Epoch 38/50\n",
      "235/235 [==============================] - 1s 4ms/step - loss: 0.0927 - val_loss: 0.0916\n",
      "Epoch 39/50\n",
      "235/235 [==============================] - 1s 4ms/step - loss: 0.0928 - val_loss: 0.0916\n",
      "Epoch 40/50\n",
      "235/235 [==============================] - 1s 4ms/step - loss: 0.0927 - val_loss: 0.0917\n",
      "Epoch 41/50\n",
      "235/235 [==============================] - 1s 4ms/step - loss: 0.0926 - val_loss: 0.0916\n",
      "Epoch 42/50\n",
      "235/235 [==============================] - 1s 4ms/step - loss: 0.0926 - val_loss: 0.0916\n",
      "Epoch 43/50\n",
      "235/235 [==============================] - 1s 4ms/step - loss: 0.0928 - val_loss: 0.0916\n",
      "Epoch 44/50\n",
      "235/235 [==============================] - 1s 4ms/step - loss: 0.0927 - val_loss: 0.0917\n",
      "Epoch 45/50\n",
      "235/235 [==============================] - 1s 4ms/step - loss: 0.0925 - val_loss: 0.0915\n",
      "Epoch 46/50\n",
      "235/235 [==============================] - 1s 4ms/step - loss: 0.0927 - val_loss: 0.0915\n",
      "Epoch 47/50\n",
      "235/235 [==============================] - 1s 4ms/step - loss: 0.0924 - val_loss: 0.0915\n",
      "Epoch 48/50\n",
      "235/235 [==============================] - 1s 4ms/step - loss: 0.0925 - val_loss: 0.0915\n",
      "Epoch 49/50\n",
      "235/235 [==============================] - 1s 4ms/step - loss: 0.0923 - val_loss: 0.0916\n",
      "Epoch 50/50\n",
      "235/235 [==============================] - 1s 4ms/step - loss: 0.0926 - val_loss: 0.0915\n"
     ]
    }
   ],
   "source": [
    "autoencoder.compile(optimizer='adam', loss='binary_crossentropy')\n",
    "history = autoencoder.fit(x_train, x_train,\n",
    "                epochs=50,\n",
    "                batch_size=256,\n",
    "                shuffle=True,\n",
    "                validation_data=(x_test, x_test))"
   ]
  },
  {
   "cell_type": "markdown",
   "metadata": {},
   "source": [
    "After 50 epochs, the autoencoder seems to reach a stable train/validation loss value of about 0.09. We can try to visualize the reconstructed inputs and the encoded representations."
   ]
  },
  {
   "cell_type": "code",
   "execution_count": 6,
   "metadata": {},
   "outputs": [],
   "source": [
    "# Encode and decode some digits\n",
    "# Note that we take them from the *test* set\n",
    "encoded_imgs = encoder.predict(x_test)\n",
    "decoded_imgs = decoder.predict(encoded_imgs)"
   ]
  },
  {
   "cell_type": "code",
   "execution_count": 7,
   "metadata": {},
   "outputs": [
    {
     "data": {
      "image/png": "[encoded data removed]",
      "text/plain": [
       "<Figure size 1440x288 with 20 Axes>"
      ]
     },
     "metadata": {
      "needs_background": "light"
     },
     "output_type": "display_data"
    },
    {
     "name": "stdout",
     "output_type": "stream",
     "text": [
      "8.982427\n"
     ]
    }
   ],
   "source": [
    "import matplotlib.pyplot as plt\n",
    "\n",
    "n = 10  # How many digits we will display\n",
    "plt.figure(figsize=(20, 4))\n",
    "for i in range(n):\n",
    "    # Display original\n",
    "    ax = plt.subplot(2, n, i + 1)\n",
    "    plt.imshow(x_test[i].reshape(28, 28))\n",
    "    plt.gray()\n",
    "    ax.get_xaxis().set_visible(False)\n",
    "    ax.get_yaxis().set_visible(False)\n",
    "\n",
    "    # Display reconstruction\n",
    "    ax = plt.subplot(2, n, i + 1 + n)\n",
    "    plt.imshow(decoded_imgs[i].reshape(28, 28))\n",
    "    plt.gray()\n",
    "    ax.get_xaxis().set_visible(False)\n",
    "    ax.get_yaxis().set_visible(False)\n",
    "plt.show()\n",
    "print(encoded_imgs.mean())"
   ]
  },
  {
   "cell_type": "markdown",
   "metadata": {},
   "source": [
    "# 2. Adding sparsity constraint on the encoded representations"
   ]
  },
  {
   "cell_type": "markdown",
   "metadata": {},
   "source": [
    "In the previous example, the representations were only constrained by the size of the hidden layer (32). In such a situation, what typically happens is that the hidden layer is learning an approximation of [PCA (principal component analysis)](https://en.wikipedia.org/wiki/Principal_component_analysis). But another way to constrain the representations to be compact is to add a sparsity contraint on the activity of the hidden representations, so fewer units would \"fire\" at a given time. In Keras, this can be done by adding an activity_regularizer to our `Dense` layer:"
   ]
  },
  {
   "cell_type": "code",
   "execution_count": 8,
   "metadata": {},
   "outputs": [],
   "source": [
    "from keras import regularizers\n",
    "\n",
    "encoding_dim = 32\n",
    "\n",
    "input_img = keras.Input(shape=(784,))\n",
    "# Add a Dense layer with a L1 activity regularizer\n",
    "encoded = layers.Dense(encoding_dim, activation='relu',\n",
    "                activity_regularizer=regularizers.l1(10e-5))(input_img)\n",
    "decoded = layers.Dense(784, activation='sigmoid')(encoded)\n",
    "\n",
    "autoencoder = keras.Model(input_img, decoded)"
   ]
  },
  {
   "cell_type": "markdown",
   "metadata": {},
   "source": [
    "Let's train this model for 100 epochs (with the added regularization the model is less likely to overfit and can be trained longer). "
   ]
  },
  {
   "cell_type": "code",
   "execution_count": 9,
   "metadata": {},
   "outputs": [
    {
     "name": "stdout",
     "output_type": "stream",
     "text": [
      "Epoch 1/100\n",
      "235/235 [==============================] - 1s 4ms/step - loss: 0.3946 - val_loss: 0.1934\n",
      "Epoch 2/100\n",
      "235/235 [==============================] - 1s 4ms/step - loss: 0.1840 - val_loss: 0.1599\n",
      "Epoch 3/100\n",
      "235/235 [==============================] - 1s 4ms/step - loss: 0.1566 - val_loss: 0.1428\n",
      "Epoch 4/100\n",
      "235/235 [==============================] - 1s 4ms/step - loss: 0.1411 - val_loss: 0.1314\n",
      "Epoch 5/100\n",
      "235/235 [==============================] - 1s 4ms/step - loss: 0.1306 - val_loss: 0.1229\n",
      "Epoch 6/100\n",
      "235/235 [==============================] - 1s 4ms/step - loss: 0.1227 - val_loss: 0.1170\n",
      "Epoch 7/100\n",
      "235/235 [==============================] - 1s 4ms/step - loss: 0.1171 - val_loss: 0.1131\n",
      "Epoch 8/100\n",
      "235/235 [==============================] - 1s 4ms/step - loss: 0.1134 - val_loss: 0.1100\n",
      "Epoch 9/100\n",
      "235/235 [==============================] - 1s 4ms/step - loss: 0.1105 - val_loss: 0.1080\n",
      "Epoch 10/100\n",
      "235/235 [==============================] - 1s 4ms/step - loss: 0.1088 - val_loss: 0.1067\n",
      "Epoch 11/100\n",
      "235/235 [==============================] - 1s 4ms/step - loss: 0.1077 - val_loss: 0.1057\n",
      "Epoch 12/100\n",
      "235/235 [==============================] - 1s 4ms/step - loss: 0.1066 - val_loss: 0.1049\n",
      "Epoch 13/100\n",
      "235/235 [==============================] - 1s 4ms/step - loss: 0.1058 - val_loss: 0.1043\n",
      "Epoch 14/100\n",
      "235/235 [==============================] - 1s 4ms/step - loss: 0.1053 - val_loss: 0.1038\n",
      "Epoch 15/100\n",
      "235/235 [==============================] - 1s 4ms/step - loss: 0.1048 - val_loss: 0.1033\n",
      "Epoch 16/100\n",
      "235/235 [==============================] - 1s 4ms/step - loss: 0.1043 - val_loss: 0.1029\n",
      "Epoch 17/100\n",
      "235/235 [==============================] - 1s 4ms/step - loss: 0.1038 - val_loss: 0.1026\n",
      "Epoch 18/100\n",
      "235/235 [==============================] - 1s 4ms/step - loss: 0.1035 - val_loss: 0.1022\n",
      "Epoch 19/100\n",
      "235/235 [==============================] - 1s 4ms/step - loss: 0.1034 - val_loss: 0.1019\n",
      "Epoch 20/100\n",
      "235/235 [==============================] - 1s 4ms/step - loss: 0.1032 - val_loss: 0.1017\n",
      "Epoch 21/100\n",
      "235/235 [==============================] - 1s 4ms/step - loss: 0.1027 - val_loss: 0.1014\n",
      "Epoch 22/100\n",
      "235/235 [==============================] - 1s 4ms/step - loss: 0.1027 - val_loss: 0.1012\n",
      "Epoch 23/100\n",
      "235/235 [==============================] - 1s 4ms/step - loss: 0.1022 - val_loss: 0.1010\n",
      "Epoch 24/100\n",
      "235/235 [==============================] - 1s 4ms/step - loss: 0.1019 - val_loss: 0.1008\n",
      "Epoch 25/100\n",
      "235/235 [==============================] - 1s 4ms/step - loss: 0.1017 - val_loss: 0.1006\n",
      "Epoch 26/100\n",
      "235/235 [==============================] - 1s 4ms/step - loss: 0.1015 - val_loss: 0.1004\n",
      "Epoch 27/100\n",
      "235/235 [==============================] - 1s 4ms/step - loss: 0.1013 - val_loss: 0.1002\n",
      "Epoch 28/100\n",
      "235/235 [==============================] - 1s 4ms/step - loss: 0.1014 - val_loss: 0.1001\n",
      "Epoch 29/100\n",
      "235/235 [==============================] - 1s 4ms/step - loss: 0.1012 - val_loss: 0.0999\n",
      "Epoch 30/100\n",
      "235/235 [==============================] - 1s 4ms/step - loss: 0.1013 - val_loss: 0.0998\n",
      "Epoch 31/100\n",
      "235/235 [==============================] - 1s 4ms/step - loss: 0.1007 - val_loss: 0.0997\n",
      "Epoch 32/100\n",
      "235/235 [==============================] - 1s 4ms/step - loss: 0.1008 - val_loss: 0.0995\n",
      "Epoch 33/100\n",
      "235/235 [==============================] - 1s 4ms/step - loss: 0.1004 - val_loss: 0.0995\n",
      "Epoch 34/100\n",
      "235/235 [==============================] - 1s 4ms/step - loss: 0.1005 - val_loss: 0.0993\n",
      "Epoch 35/100\n",
      "235/235 [==============================] - 1s 4ms/step - loss: 0.1000 - val_loss: 0.0992\n",
      "Epoch 36/100\n",
      "235/235 [==============================] - 1s 4ms/step - loss: 0.1001 - val_loss: 0.0990\n",
      "Epoch 37/100\n",
      "235/235 [==============================] - 1s 4ms/step - loss: 0.1000 - val_loss: 0.0989\n",
      "Epoch 38/100\n",
      "235/235 [==============================] - 1s 4ms/step - loss: 0.0998 - val_loss: 0.0989\n",
      "Epoch 39/100\n",
      "235/235 [==============================] - 1s 4ms/step - loss: 0.0998 - val_loss: 0.0988\n",
      "Epoch 40/100\n",
      "235/235 [==============================] - 1s 4ms/step - loss: 0.0997 - val_loss: 0.0987\n",
      "Epoch 41/100\n",
      "235/235 [==============================] - 1s 4ms/step - loss: 0.0993 - val_loss: 0.0986\n",
      "Epoch 42/100\n",
      "235/235 [==============================] - 1s 4ms/step - loss: 0.0996 - val_loss: 0.0985\n",
      "Epoch 43/100\n",
      "235/235 [==============================] - 1s 4ms/step - loss: 0.0995 - val_loss: 0.0984\n",
      "Epoch 44/100\n",
      "235/235 [==============================] - 1s 4ms/step - loss: 0.0994 - val_loss: 0.0983\n",
      "Epoch 45/100\n",
      "235/235 [==============================] - 1s 4ms/step - loss: 0.0992 - val_loss: 0.0983\n",
      "Epoch 46/100\n",
      "235/235 [==============================] - 1s 4ms/step - loss: 0.0992 - val_loss: 0.0982\n",
      "Epoch 47/100\n",
      "235/235 [==============================] - 1s 4ms/step - loss: 0.0991 - val_loss: 0.0981\n",
      "Epoch 48/100\n",
      "235/235 [==============================] - 1s 4ms/step - loss: 0.0989 - val_loss: 0.0981\n",
      "Epoch 49/100\n",
      "235/235 [==============================] - 1s 4ms/step - loss: 0.0991 - val_loss: 0.0980\n",
      "Epoch 50/100\n",
      "235/235 [==============================] - 1s 4ms/step - loss: 0.0991 - val_loss: 0.0979\n",
      "Epoch 51/100\n",
      "235/235 [==============================] - 1s 4ms/step - loss: 0.0987 - val_loss: 0.0979\n",
      "Epoch 52/100\n",
      "235/235 [==============================] - 1s 4ms/step - loss: 0.0987 - val_loss: 0.0978\n",
      "Epoch 53/100\n",
      "235/235 [==============================] - 1s 4ms/step - loss: 0.0985 - val_loss: 0.0977\n",
      "Epoch 54/100\n",
      "235/235 [==============================] - 1s 4ms/step - loss: 0.0986 - val_loss: 0.0977\n",
      "Epoch 55/100\n",
      "235/235 [==============================] - 1s 4ms/step - loss: 0.0986 - val_loss: 0.0976\n",
      "Epoch 56/100\n",
      "235/235 [==============================] - 1s 4ms/step - loss: 0.0986 - val_loss: 0.0975\n",
      "Epoch 57/100\n",
      "235/235 [==============================] - 1s 4ms/step - loss: 0.0983 - val_loss: 0.0975\n",
      "Epoch 58/100\n",
      "235/235 [==============================] - 1s 4ms/step - loss: 0.0983 - val_loss: 0.0974\n",
      "Epoch 59/100\n",
      "235/235 [==============================] - 1s 4ms/step - loss: 0.0983 - val_loss: 0.0974\n",
      "Epoch 60/100\n",
      "235/235 [==============================] - 1s 4ms/step - loss: 0.0985 - val_loss: 0.0973\n",
      "Epoch 61/100\n",
      "235/235 [==============================] - 1s 4ms/step - loss: 0.0984 - val_loss: 0.0973\n",
      "Epoch 62/100\n",
      "235/235 [==============================] - 1s 4ms/step - loss: 0.0982 - val_loss: 0.0973\n",
      "Epoch 63/100\n",
      "235/235 [==============================] - 1s 4ms/step - loss: 0.0984 - val_loss: 0.0972\n",
      "Epoch 64/100\n",
      "235/235 [==============================] - 1s 4ms/step - loss: 0.0981 - val_loss: 0.0971\n",
      "Epoch 65/100\n",
      "235/235 [==============================] - 1s 4ms/step - loss: 0.0981 - val_loss: 0.0971\n",
      "Epoch 66/100\n",
      "235/235 [==============================] - 1s 4ms/step - loss: 0.0980 - val_loss: 0.0971\n",
      "Epoch 67/100\n",
      "235/235 [==============================] - 1s 4ms/step - loss: 0.0980 - val_loss: 0.0971\n",
      "Epoch 68/100\n",
      "235/235 [==============================] - 1s 4ms/step - loss: 0.0978 - val_loss: 0.0970\n",
      "Epoch 69/100\n",
      "235/235 [==============================] - 1s 4ms/step - loss: 0.0977 - val_loss: 0.0969\n",
      "Epoch 70/100\n",
      "235/235 [==============================] - 1s 4ms/step - loss: 0.0977 - val_loss: 0.0968\n",
      "Epoch 71/100\n",
      "235/235 [==============================] - 1s 4ms/step - loss: 0.0979 - val_loss: 0.0968\n",
      "Epoch 72/100\n",
      "235/235 [==============================] - 1s 4ms/step - loss: 0.0977 - val_loss: 0.0969\n",
      "Epoch 73/100\n",
      "235/235 [==============================] - 1s 4ms/step - loss: 0.0977 - val_loss: 0.0969\n",
      "Epoch 74/100\n",
      "235/235 [==============================] - 1s 4ms/step - loss: 0.0975 - val_loss: 0.0967\n",
      "Epoch 75/100\n",
      "235/235 [==============================] - 1s 4ms/step - loss: 0.0975 - val_loss: 0.0967\n",
      "Epoch 76/100\n",
      "235/235 [==============================] - 1s 4ms/step - loss: 0.0977 - val_loss: 0.0967\n",
      "Epoch 77/100\n",
      "235/235 [==============================] - 1s 4ms/step - loss: 0.0977 - val_loss: 0.0966\n",
      "Epoch 78/100\n",
      "235/235 [==============================] - 1s 4ms/step - loss: 0.0977 - val_loss: 0.0966\n",
      "Epoch 79/100\n",
      "235/235 [==============================] - 1s 4ms/step - loss: 0.0975 - val_loss: 0.0966\n",
      "Epoch 80/100\n",
      "235/235 [==============================] - 1s 4ms/step - loss: 0.0976 - val_loss: 0.0965\n",
      "Epoch 81/100\n",
      "235/235 [==============================] - 1s 4ms/step - loss: 0.0972 - val_loss: 0.0965\n",
      "Epoch 82/100\n",
      "235/235 [==============================] - 1s 4ms/step - loss: 0.0973 - val_loss: 0.0966\n",
      "Epoch 83/100\n",
      "235/235 [==============================] - 1s 4ms/step - loss: 0.0974 - val_loss: 0.0964\n",
      "Epoch 84/100\n",
      "235/235 [==============================] - 1s 4ms/step - loss: 0.0971 - val_loss: 0.0964\n",
      "Epoch 85/100\n",
      "235/235 [==============================] - 1s 4ms/step - loss: 0.0971 - val_loss: 0.0963\n",
      "Epoch 86/100\n",
      "235/235 [==============================] - 1s 4ms/step - loss: 0.0972 - val_loss: 0.0964\n",
      "Epoch 87/100\n",
      "235/235 [==============================] - 1s 4ms/step - loss: 0.0971 - val_loss: 0.0963\n",
      "Epoch 88/100\n",
      "235/235 [==============================] - 1s 4ms/step - loss: 0.0973 - val_loss: 0.0963\n",
      "Epoch 89/100\n",
      "235/235 [==============================] - 1s 4ms/step - loss: 0.0971 - val_loss: 0.0962\n",
      "Epoch 90/100\n",
      "235/235 [==============================] - 1s 4ms/step - loss: 0.0970 - val_loss: 0.0962\n",
      "Epoch 91/100\n",
      "235/235 [==============================] - 1s 4ms/step - loss: 0.0970 - val_loss: 0.0962\n",
      "Epoch 92/100\n",
      "235/235 [==============================] - 1s 4ms/step - loss: 0.0972 - val_loss: 0.0961\n",
      "Epoch 93/100\n",
      "235/235 [==============================] - 1s 4ms/step - loss: 0.0970 - val_loss: 0.0961\n",
      "Epoch 94/100\n",
      "235/235 [==============================] - 1s 4ms/step - loss: 0.0970 - val_loss: 0.0962\n",
      "Epoch 95/100\n",
      "235/235 [==============================] - 1s 4ms/step - loss: 0.0967 - val_loss: 0.0961\n",
      "Epoch 96/100\n",
      "235/235 [==============================] - 1s 4ms/step - loss: 0.0970 - val_loss: 0.0960\n",
      "Epoch 97/100\n",
      "235/235 [==============================] - 1s 4ms/step - loss: 0.0968 - val_loss: 0.0961\n",
      "Epoch 98/100\n",
      "235/235 [==============================] - 1s 4ms/step - loss: 0.0970 - val_loss: 0.0960\n",
      "Epoch 99/100\n",
      "235/235 [==============================] - 1s 4ms/step - loss: 0.0968 - val_loss: 0.0960\n",
      "Epoch 100/100\n",
      "235/235 [==============================] - 1s 4ms/step - loss: 0.0970 - val_loss: 0.0959\n"
     ]
    }
   ],
   "source": [
    "autoencoder.compile(optimizer='adam', loss='binary_crossentropy')\n",
    "history = autoencoder.fit(x_train, x_train,\n",
    "                epochs=100,\n",
    "                batch_size=256,\n",
    "                shuffle=True,\n",
    "                validation_data=(x_test, x_test))"
   ]
  },
  {
   "cell_type": "code",
   "execution_count": 10,
   "metadata": {},
   "outputs": [],
   "source": [
    "# Once again, explicitly define encoder and decoder, using the same code as above.\n",
    "encoder = keras.Model(input_img, encoded)\n",
    "encoded_input = keras.Input(shape=(encoding_dim,))\n",
    "decoder_layer = autoencoder.layers[-1]\n",
    "decoder = keras.Model(encoded_input, decoder_layer(encoded_input))"
   ]
  },
  {
   "cell_type": "code",
   "execution_count": 11,
   "metadata": {},
   "outputs": [],
   "source": [
    "# Visualize the results\n",
    "encoded_imgs = encoder.predict(x_test)\n",
    "decoded_imgs = decoder.predict(encoded_imgs)"
   ]
  },
  {
   "cell_type": "code",
   "execution_count": 12,
   "metadata": {},
   "outputs": [
    {
     "data": {
      "image/png": "[encoded data removed]",
      "text/plain": [
       "<Figure size 1440x288 with 20 Axes>"
      ]
     },
     "metadata": {
      "needs_background": "light"
     },
     "output_type": "display_data"
    },
    {
     "name": "stdout",
     "output_type": "stream",
     "text": [
      "1.2718109\n"
     ]
    }
   ],
   "source": [
    "import matplotlib.pyplot as plt\n",
    "\n",
    "n = 10  # How many digits we will display\n",
    "plt.figure(figsize=(20, 4))\n",
    "for i in range(n):\n",
    "    # Display original\n",
    "    ax = plt.subplot(2, n, i + 1)\n",
    "    plt.imshow(x_test[i].reshape(28, 28))\n",
    "    plt.gray()\n",
    "    ax.get_xaxis().set_visible(False)\n",
    "    ax.get_yaxis().set_visible(False)\n",
    "\n",
    "    # Display reconstruction\n",
    "    ax = plt.subplot(2, n, i + 1 + n)\n",
    "    plt.imshow(decoded_imgs[i].reshape(28, 28))\n",
    "    plt.gray()\n",
    "    ax.get_xaxis().set_visible(False)\n",
    "    ax.get_yaxis().set_visible(False)\n",
    "plt.show()\n",
    "\n",
    "print( encoded_imgs.mean() )"
   ]
  },
  {
   "cell_type": "markdown",
   "metadata": {},
   "source": [
    "They look pretty similar to the previous model, the only significant difference being the sparsity of the encoded representations. encoded_imgs.mean() yields a value 1.27 (over our 10,000 test images), whereas with the previous model the same quantity was 8.98. So our new model yields encoded representations that much more sparse."
   ]
  },
  {
   "cell_type": "markdown",
   "metadata": {},
   "source": [
    "# 3. Deep autoencoder\n",
    "Let's make things more interesting, and build a 3-layer encoder followed by a 3-layer decoder\n",
    "\n",
    "Input (784) -> Dense (128) -> Dense (64) -> Dense (32) -> Dense (64) -> Dense (128) -> Dense (784)"
   ]
  },
  {
   "cell_type": "code",
   "execution_count": 13,
   "metadata": {},
   "outputs": [],
   "source": [
    "input_img = keras.Input(shape=(784,))\n",
    "encoded = layers.Dense(128, activation='relu')(input_img)\n",
    "encoded = layers.Dense(64, activation='relu')(encoded)\n",
    "encoded = layers.Dense(32, activation='relu')(encoded)\n",
    "\n",
    "decoded = layers.Dense(64, activation='relu')(encoded)\n",
    "decoded = layers.Dense(128, activation='relu')(decoded)\n",
    "decoded = layers.Dense(784, activation='sigmoid')(decoded)"
   ]
  },
  {
   "cell_type": "code",
   "execution_count": 14,
   "metadata": {
    "scrolled": true
   },
   "outputs": [
    {
     "name": "stdout",
     "output_type": "stream",
     "text": [
      "Epoch 1/100\n",
      "235/235 [==============================] - 2s 6ms/step - loss: 0.3371 - val_loss: 0.1664\n",
      "Epoch 2/100\n",
      "235/235 [==============================] - 1s 6ms/step - loss: 0.1587 - val_loss: 0.1362\n",
      "Epoch 3/100\n",
      "235/235 [==============================] - 1s 6ms/step - loss: 0.1338 - val_loss: 0.1240\n",
      "Epoch 4/100\n",
      "235/235 [==============================] - 1s 6ms/step - loss: 0.1242 - val_loss: 0.1173\n",
      "Epoch 5/100\n",
      "235/235 [==============================] - 1s 6ms/step - loss: 0.1176 - val_loss: 0.1133\n",
      "Epoch 6/100\n",
      "235/235 [==============================] - 1s 6ms/step - loss: 0.1136 - val_loss: 0.1096\n",
      "Epoch 7/100\n",
      "235/235 [==============================] - 1s 6ms/step - loss: 0.1100 - val_loss: 0.1069\n",
      "Epoch 8/100\n",
      "235/235 [==============================] - 1s 6ms/step - loss: 0.1076 - val_loss: 0.1042\n",
      "Epoch 9/100\n",
      "235/235 [==============================] - 1s 6ms/step - loss: 0.1051 - val_loss: 0.1021\n",
      "Epoch 10/100\n",
      "235/235 [==============================] - 1s 6ms/step - loss: 0.1028 - val_loss: 0.0999\n",
      "Epoch 11/100\n",
      "235/235 [==============================] - 1s 6ms/step - loss: 0.1006 - val_loss: 0.0985\n",
      "Epoch 12/100\n",
      "235/235 [==============================] - 1s 6ms/step - loss: 0.0991 - val_loss: 0.0970\n",
      "Epoch 13/100\n",
      "235/235 [==============================] - 1s 6ms/step - loss: 0.0977 - val_loss: 0.0963\n",
      "Epoch 14/100\n",
      "235/235 [==============================] - 1s 6ms/step - loss: 0.0969 - val_loss: 0.0951\n",
      "Epoch 15/100\n",
      "235/235 [==============================] - 1s 6ms/step - loss: 0.0956 - val_loss: 0.0944\n",
      "Epoch 16/100\n",
      "235/235 [==============================] - 1s 6ms/step - loss: 0.0952 - val_loss: 0.0938\n",
      "Epoch 17/100\n",
      "235/235 [==============================] - 1s 6ms/step - loss: 0.0946 - val_loss: 0.0934\n",
      "Epoch 18/100\n",
      "235/235 [==============================] - 1s 6ms/step - loss: 0.0938 - val_loss: 0.0928\n",
      "Epoch 19/100\n",
      "235/235 [==============================] - 1s 6ms/step - loss: 0.0935 - val_loss: 0.0923\n",
      "Epoch 20/100\n",
      "235/235 [==============================] - 1s 6ms/step - loss: 0.0927 - val_loss: 0.0918\n",
      "Epoch 21/100\n",
      "235/235 [==============================] - 1s 6ms/step - loss: 0.0924 - val_loss: 0.0914\n",
      "Epoch 22/100\n",
      "235/235 [==============================] - 1s 6ms/step - loss: 0.0918 - val_loss: 0.0910\n",
      "Epoch 23/100\n",
      "235/235 [==============================] - 1s 6ms/step - loss: 0.0916 - val_loss: 0.0906\n",
      "Epoch 24/100\n",
      "235/235 [==============================] - 1s 6ms/step - loss: 0.0908 - val_loss: 0.0898\n",
      "Epoch 25/100\n",
      "235/235 [==============================] - 1s 6ms/step - loss: 0.0906 - val_loss: 0.0896\n",
      "Epoch 26/100\n",
      "235/235 [==============================] - 1s 6ms/step - loss: 0.0901 - val_loss: 0.0893\n",
      "Epoch 27/100\n",
      "235/235 [==============================] - 1s 6ms/step - loss: 0.0899 - val_loss: 0.0890\n",
      "Epoch 28/100\n",
      "235/235 [==============================] - 1s 6ms/step - loss: 0.0894 - val_loss: 0.0887\n",
      "Epoch 29/100\n",
      "235/235 [==============================] - 1s 6ms/step - loss: 0.0891 - val_loss: 0.0887\n",
      "Epoch 30/100\n",
      "235/235 [==============================] - 1s 6ms/step - loss: 0.0888 - val_loss: 0.0881\n",
      "Epoch 31/100\n",
      "235/235 [==============================] - 1s 6ms/step - loss: 0.0886 - val_loss: 0.0878\n",
      "Epoch 32/100\n",
      "235/235 [==============================] - 1s 6ms/step - loss: 0.0883 - val_loss: 0.0877\n",
      "Epoch 33/100\n",
      "235/235 [==============================] - 1s 6ms/step - loss: 0.0881 - val_loss: 0.0874\n",
      "Epoch 34/100\n",
      "235/235 [==============================] - 1s 6ms/step - loss: 0.0879 - val_loss: 0.0873\n",
      "Epoch 35/100\n",
      "235/235 [==============================] - 1s 6ms/step - loss: 0.0876 - val_loss: 0.0872\n",
      "Epoch 36/100\n",
      "235/235 [==============================] - 1s 6ms/step - loss: 0.0874 - val_loss: 0.0867\n",
      "Epoch 37/100\n",
      "235/235 [==============================] - 1s 6ms/step - loss: 0.0871 - val_loss: 0.0866\n",
      "Epoch 38/100\n",
      "235/235 [==============================] - 1s 6ms/step - loss: 0.0869 - val_loss: 0.0864\n",
      "Epoch 39/100\n",
      "235/235 [==============================] - 1s 6ms/step - loss: 0.0868 - val_loss: 0.0864\n",
      "Epoch 40/100\n",
      "235/235 [==============================] - 1s 6ms/step - loss: 0.0865 - val_loss: 0.0860\n",
      "Epoch 41/100\n",
      "235/235 [==============================] - 1s 6ms/step - loss: 0.0863 - val_loss: 0.0859\n",
      "Epoch 42/100\n",
      "235/235 [==============================] - 1s 6ms/step - loss: 0.0862 - val_loss: 0.0858\n",
      "Epoch 43/100\n",
      "235/235 [==============================] - 1s 6ms/step - loss: 0.0861 - val_loss: 0.0855\n",
      "Epoch 44/100\n",
      "235/235 [==============================] - 1s 6ms/step - loss: 0.0858 - val_loss: 0.0853\n",
      "Epoch 45/100\n",
      "235/235 [==============================] - 1s 6ms/step - loss: 0.0858 - val_loss: 0.0853\n",
      "Epoch 46/100\n",
      "235/235 [==============================] - 1s 6ms/step - loss: 0.0856 - val_loss: 0.0851\n",
      "Epoch 47/100\n",
      "235/235 [==============================] - 1s 6ms/step - loss: 0.0854 - val_loss: 0.0850\n",
      "Epoch 48/100\n",
      "235/235 [==============================] - 1s 6ms/step - loss: 0.0853 - val_loss: 0.0851\n",
      "Epoch 49/100\n",
      "235/235 [==============================] - 1s 6ms/step - loss: 0.0852 - val_loss: 0.0847\n",
      "Epoch 50/100\n",
      "235/235 [==============================] - 1s 6ms/step - loss: 0.0852 - val_loss: 0.0846\n",
      "Epoch 51/100\n",
      "235/235 [==============================] - 1s 6ms/step - loss: 0.0848 - val_loss: 0.0845\n",
      "Epoch 52/100\n",
      "235/235 [==============================] - 1s 6ms/step - loss: 0.0849 - val_loss: 0.0846\n",
      "Epoch 53/100\n",
      "235/235 [==============================] - 1s 6ms/step - loss: 0.0848 - val_loss: 0.0845\n",
      "Epoch 54/100\n",
      "235/235 [==============================] - 1s 6ms/step - loss: 0.0847 - val_loss: 0.0841\n",
      "Epoch 55/100\n",
      "235/235 [==============================] - 1s 6ms/step - loss: 0.0844 - val_loss: 0.0841\n",
      "Epoch 56/100\n",
      "235/235 [==============================] - 1s 6ms/step - loss: 0.0844 - val_loss: 0.0841\n",
      "Epoch 57/100\n",
      "235/235 [==============================] - 1s 6ms/step - loss: 0.0844 - val_loss: 0.0840\n",
      "Epoch 58/100\n",
      "235/235 [==============================] - 1s 6ms/step - loss: 0.0844 - val_loss: 0.0840\n",
      "Epoch 59/100\n",
      "235/235 [==============================] - 1s 6ms/step - loss: 0.0843 - val_loss: 0.0841\n",
      "Epoch 60/100\n",
      "235/235 [==============================] - 1s 6ms/step - loss: 0.0842 - val_loss: 0.0839\n",
      "Epoch 61/100\n",
      "235/235 [==============================] - 1s 6ms/step - loss: 0.0842 - val_loss: 0.0840\n",
      "Epoch 62/100\n",
      "235/235 [==============================] - 1s 6ms/step - loss: 0.0841 - val_loss: 0.0838\n",
      "Epoch 63/100\n",
      "235/235 [==============================] - 1s 6ms/step - loss: 0.0842 - val_loss: 0.0835\n",
      "Epoch 64/100\n",
      "235/235 [==============================] - 1s 6ms/step - loss: 0.0839 - val_loss: 0.0836\n",
      "Epoch 65/100\n",
      "235/235 [==============================] - 1s 6ms/step - loss: 0.0838 - val_loss: 0.0837\n",
      "Epoch 66/100\n",
      "235/235 [==============================] - 1s 6ms/step - loss: 0.0837 - val_loss: 0.0834\n",
      "Epoch 67/100\n",
      "235/235 [==============================] - 1s 6ms/step - loss: 0.0837 - val_loss: 0.0833\n",
      "Epoch 68/100\n",
      "235/235 [==============================] - 1s 6ms/step - loss: 0.0837 - val_loss: 0.0834\n",
      "Epoch 69/100\n",
      "235/235 [==============================] - 1s 6ms/step - loss: 0.0835 - val_loss: 0.0834\n",
      "Epoch 70/100\n",
      "235/235 [==============================] - 1s 6ms/step - loss: 0.0834 - val_loss: 0.0833\n",
      "Epoch 71/100\n",
      "235/235 [==============================] - 1s 6ms/step - loss: 0.0836 - val_loss: 0.0831\n",
      "Epoch 72/100\n",
      "235/235 [==============================] - 1s 6ms/step - loss: 0.0833 - val_loss: 0.0832\n",
      "Epoch 73/100\n",
      "235/235 [==============================] - 1s 6ms/step - loss: 0.0834 - val_loss: 0.0831\n",
      "Epoch 74/100\n",
      "235/235 [==============================] - 1s 6ms/step - loss: 0.0833 - val_loss: 0.0830\n",
      "Epoch 75/100\n",
      "235/235 [==============================] - 1s 6ms/step - loss: 0.0832 - val_loss: 0.0831\n",
      "Epoch 76/100\n",
      "235/235 [==============================] - 1s 6ms/step - loss: 0.0831 - val_loss: 0.0830\n",
      "Epoch 77/100\n",
      "235/235 [==============================] - 1s 6ms/step - loss: 0.0831 - val_loss: 0.0830\n",
      "Epoch 78/100\n",
      "235/235 [==============================] - 1s 6ms/step - loss: 0.0832 - val_loss: 0.0828\n",
      "Epoch 79/100\n",
      "235/235 [==============================] - 1s 6ms/step - loss: 0.0830 - val_loss: 0.0828\n",
      "Epoch 80/100\n",
      "235/235 [==============================] - 1s 6ms/step - loss: 0.0830 - val_loss: 0.0829\n",
      "Epoch 81/100\n",
      "235/235 [==============================] - 1s 6ms/step - loss: 0.0831 - val_loss: 0.0829\n",
      "Epoch 82/100\n",
      "235/235 [==============================] - 1s 6ms/step - loss: 0.0828 - val_loss: 0.0829\n",
      "Epoch 83/100\n",
      "235/235 [==============================] - 1s 6ms/step - loss: 0.0830 - val_loss: 0.0829\n",
      "Epoch 84/100\n",
      "235/235 [==============================] - 1s 6ms/step - loss: 0.0830 - val_loss: 0.0826\n",
      "Epoch 85/100\n",
      "235/235 [==============================] - 1s 6ms/step - loss: 0.0829 - val_loss: 0.0826\n",
      "Epoch 86/100\n",
      "235/235 [==============================] - 1s 6ms/step - loss: 0.0827 - val_loss: 0.0826\n",
      "Epoch 87/100\n",
      "235/235 [==============================] - 1s 6ms/step - loss: 0.0829 - val_loss: 0.0826\n",
      "Epoch 88/100\n",
      "235/235 [==============================] - 1s 6ms/step - loss: 0.0828 - val_loss: 0.0824\n",
      "Epoch 89/100\n",
      "235/235 [==============================] - 1s 6ms/step - loss: 0.0827 - val_loss: 0.0824\n",
      "Epoch 90/100\n",
      "235/235 [==============================] - 1s 6ms/step - loss: 0.0826 - val_loss: 0.0823\n",
      "Epoch 91/100\n",
      "235/235 [==============================] - 1s 6ms/step - loss: 0.0826 - val_loss: 0.0825\n",
      "Epoch 92/100\n",
      "235/235 [==============================] - 1s 6ms/step - loss: 0.0826 - val_loss: 0.0826\n",
      "Epoch 93/100\n",
      "235/235 [==============================] - 1s 6ms/step - loss: 0.0826 - val_loss: 0.0825\n",
      "Epoch 94/100\n",
      "235/235 [==============================] - 1s 6ms/step - loss: 0.0826 - val_loss: 0.0826\n",
      "Epoch 95/100\n",
      "235/235 [==============================] - 1s 6ms/step - loss: 0.0823 - val_loss: 0.0823\n",
      "Epoch 96/100\n",
      "235/235 [==============================] - 1s 6ms/step - loss: 0.0825 - val_loss: 0.0824\n",
      "Epoch 97/100\n",
      "235/235 [==============================] - 1s 6ms/step - loss: 0.0825 - val_loss: 0.0823\n",
      "Epoch 98/100\n",
      "235/235 [==============================] - 1s 6ms/step - loss: 0.0825 - val_loss: 0.0824\n",
      "Epoch 99/100\n",
      "235/235 [==============================] - 1s 6ms/step - loss: 0.0825 - val_loss: 0.0822\n",
      "Epoch 100/100\n",
      "235/235 [==============================] - 1s 6ms/step - loss: 0.0825 - val_loss: 0.0823\n"
     ]
    },
    {
     "data": {
      "text/plain": [
       "<tensorflow.python.keras.callbacks.History at 0x18824ced6c8>"
      ]
     },
     "execution_count": 14,
     "metadata": {},
     "output_type": "execute_result"
    }
   ],
   "source": [
    "autoencoder = keras.Model(input_img, decoded)\n",
    "autoencoder.compile(optimizer='adam', loss='binary_crossentropy')\n",
    "\n",
    "autoencoder.fit(x_train, x_train,\n",
    "                epochs=100,\n",
    "                batch_size=256,\n",
    "                shuffle=True,\n",
    "                validation_data=(x_test, x_test))"
   ]
  },
  {
   "cell_type": "markdown",
   "metadata": {},
   "source": [
    "At 100 epochs of training, a deep network has a smaller loss than a shallow network."
   ]
  },
  {
   "cell_type": "markdown",
   "metadata": {},
   "source": [
    "# 4. Convolutional autoencoder\n",
    "<img src=\"AE_conv.JPG\"/>\n",
    "Since our inputs are images, it makes sense to incorporate convnets in our encoder and decoder.\n",
    "Our network will consist in a stack of `Conv2D` and `MaxPooling2D` layers, while the decoder will consist of a stack of `Conv2D` and `UpSampling2D` layers."
   ]
  },
  {
   "cell_type": "code",
   "execution_count": 15,
   "metadata": {},
   "outputs": [],
   "source": [
    "import keras\n",
    "from keras import layers\n",
    "\n",
    "input_img = keras.Input(shape=(28, 28, 1))\n",
    "\n",
    "x = layers.Conv2D(16, (3, 3), activation='relu', padding='same')(input_img)\n",
    "x = layers.MaxPooling2D((2, 2), padding='same')(x)\n",
    "x = layers.Conv2D(8, (3, 3), activation='relu', padding='same')(x)\n",
    "x = layers.MaxPooling2D((2, 2), padding='same')(x)\n",
    "x = layers.Conv2D(8, (3, 3), activation='relu', padding='same')(x)\n",
    "encoded = layers.MaxPooling2D((2, 2), padding='same')(x)\n",
    "\n",
    "# at this point the representation is (4, 4, 8) i.e. 128-dimensional\n",
    "\n",
    "x = layers.Conv2D(8, (3, 3), activation='relu', padding='same')(encoded)\n",
    "x = layers.UpSampling2D((2, 2))(x)\n",
    "x = layers.Conv2D(8, (3, 3), activation='relu', padding='same')(x)\n",
    "x = layers.UpSampling2D((2, 2))(x)\n",
    "x = layers.Conv2D(16, (3, 3), activation='relu')(x)\n",
    "x = layers.UpSampling2D((2, 2))(x)\n",
    "decoded = layers.Conv2D(1, (3, 3), activation='sigmoid', padding='same')(x)\n",
    "\n",
    "autoencoder = keras.Model(input_img, decoded)\n",
    "autoencoder.compile(optimizer='adam', loss='binary_crossentropy')"
   ]
  },
  {
   "cell_type": "markdown",
   "metadata": {},
   "source": [
    "To train it, we will use the original MNIST digits with shape (samples, 3, 28, 28), and we will just normalize pixel values between 0 and 1."
   ]
  },
  {
   "cell_type": "code",
   "execution_count": 16,
   "metadata": {},
   "outputs": [],
   "source": [
    "from keras.datasets import mnist\n",
    "import numpy as np\n",
    "\n",
    "(x_train, _), (x_test, _) = mnist.load_data()\n",
    "\n",
    "x_train = x_train.astype('float32') / 255.\n",
    "x_test = x_test.astype('float32') / 255.\n",
    "x_train = np.reshape(x_train, (len(x_train), 28, 28, 1))\n",
    "x_test = np.reshape(x_test, (len(x_test), 28, 28, 1))"
   ]
  },
  {
   "cell_type": "markdown",
   "metadata": {},
   "source": [
    "Let's train this model for 50 epochs. This will take a minute. By that I mean ~30 minuts for me.\n",
    "\n",
    "Francois uses the TensorBoard callback to monitor the training progress. I'll describe how to do that at the end of the notebook."
   ]
  },
  {
   "cell_type": "code",
   "execution_count": 18,
   "metadata": {
    "scrolled": true
   },
   "outputs": [
    {
     "name": "stdout",
     "output_type": "stream",
     "text": [
      "Epoch 1/50\n",
      "469/469 [==============================] - 31s 67ms/step - loss: 0.1185 - val_loss: 0.1148\n",
      "Epoch 2/50\n",
      "469/469 [==============================] - 31s 66ms/step - loss: 0.1142 - val_loss: 0.1113\n",
      "Epoch 3/50\n",
      "469/469 [==============================] - 31s 67ms/step - loss: 0.1113 - val_loss: 0.1090\n",
      "Epoch 4/50\n",
      "469/469 [==============================] - 31s 67ms/step - loss: 0.1089 - val_loss: 0.1068\n",
      "Epoch 5/50\n",
      "469/469 [==============================] - 32s 68ms/step - loss: 0.1071 - val_loss: 0.1050\n",
      "Epoch 6/50\n",
      "469/469 [==============================] - 30s 65ms/step - loss: 0.1056 - val_loss: 0.1038\n",
      "Epoch 7/50\n",
      "469/469 [==============================] - 30s 64ms/step - loss: 0.1045 - val_loss: 0.1030\n",
      "Epoch 8/50\n",
      "469/469 [==============================] - 30s 64ms/step - loss: 0.1036 - val_loss: 0.1021\n",
      "Epoch 9/50\n",
      "469/469 [==============================] - 30s 64ms/step - loss: 0.1028 - val_loss: 0.1011\n",
      "Epoch 10/50\n",
      "469/469 [==============================] - 30s 64ms/step - loss: 0.1021 - val_loss: 0.1005\n",
      "Epoch 11/50\n",
      "469/469 [==============================] - 30s 64ms/step - loss: 0.1015 - val_loss: 0.1003\n",
      "Epoch 12/50\n",
      "469/469 [==============================] - 31s 65ms/step - loss: 0.1009 - val_loss: 0.0994\n",
      "Epoch 13/50\n",
      "469/469 [==============================] - 30s 65ms/step - loss: 0.1004 - val_loss: 0.0990\n",
      "Epoch 14/50\n",
      "469/469 [==============================] - 30s 64ms/step - loss: 0.1000 - val_loss: 0.0985\n",
      "Epoch 15/50\n",
      "469/469 [==============================] - 30s 64ms/step - loss: 0.0996 - val_loss: 0.0981\n",
      "Epoch 16/50\n",
      "469/469 [==============================] - 30s 64ms/step - loss: 0.0992 - val_loss: 0.0980\n",
      "Epoch 17/50\n",
      "469/469 [==============================] - 30s 64ms/step - loss: 0.0988 - val_loss: 0.0974\n",
      "Epoch 18/50\n",
      "469/469 [==============================] - 30s 64ms/step - loss: 0.0984 - val_loss: 0.0970\n",
      "Epoch 19/50\n",
      "469/469 [==============================] - 31s 66ms/step - loss: 0.0980 - val_loss: 0.0968\n",
      "Epoch 20/50\n",
      "469/469 [==============================] - 31s 65ms/step - loss: 0.0977 - val_loss: 0.0965\n",
      "Epoch 21/50\n",
      "469/469 [==============================] - 30s 65ms/step - loss: 0.0974 - val_loss: 0.0960\n",
      "Epoch 22/50\n",
      "469/469 [==============================] - 30s 64ms/step - loss: 0.0970 - val_loss: 0.0957\n",
      "Epoch 23/50\n",
      "469/469 [==============================] - 30s 64ms/step - loss: 0.0967 - val_loss: 0.0954\n",
      "Epoch 24/50\n",
      "469/469 [==============================] - 30s 64ms/step - loss: 0.0966 - val_loss: 0.0952\n",
      "Epoch 25/50\n",
      "469/469 [==============================] - 30s 64ms/step - loss: 0.0963 - val_loss: 0.0951\n",
      "Epoch 26/50\n",
      "469/469 [==============================] - 30s 64ms/step - loss: 0.0960 - val_loss: 0.0948\n",
      "Epoch 27/50\n",
      "469/469 [==============================] - 30s 64ms/step - loss: 0.0958 - val_loss: 0.0950\n",
      "Epoch 28/50\n",
      "469/469 [==============================] - 30s 64ms/step - loss: 0.0956 - val_loss: 0.0945\n",
      "Epoch 29/50\n",
      "469/469 [==============================] - 30s 64ms/step - loss: 0.0954 - val_loss: 0.0943\n",
      "Epoch 30/50\n",
      "469/469 [==============================] - 30s 64ms/step - loss: 0.0953 - val_loss: 0.0944\n",
      "Epoch 31/50\n",
      "469/469 [==============================] - 30s 64ms/step - loss: 0.0951 - val_loss: 0.0938\n",
      "Epoch 32/50\n",
      "469/469 [==============================] - 30s 64ms/step - loss: 0.0949 - val_loss: 0.0941\n",
      "Epoch 33/50\n",
      "469/469 [==============================] - 30s 64ms/step - loss: 0.0948 - val_loss: 0.0939\n",
      "Epoch 34/50\n",
      "469/469 [==============================] - 30s 64ms/step - loss: 0.0946 - val_loss: 0.0934\n",
      "Epoch 35/50\n",
      "469/469 [==============================] - 30s 65ms/step - loss: 0.0945 - val_loss: 0.0937\n",
      "Epoch 36/50\n",
      "469/469 [==============================] - 31s 65ms/step - loss: 0.0942 - val_loss: 0.0931\n",
      "Epoch 37/50\n",
      "469/469 [==============================] - 30s 64ms/step - loss: 0.0942 - val_loss: 0.0931\n",
      "Epoch 38/50\n",
      "469/469 [==============================] - 31s 65ms/step - loss: 0.0940 - val_loss: 0.0927\n",
      "Epoch 39/50\n",
      "469/469 [==============================] - 30s 64ms/step - loss: 0.0939 - val_loss: 0.0932\n",
      "Epoch 40/50\n",
      "469/469 [==============================] - 31s 66ms/step - loss: 0.0938 - val_loss: 0.0927\n",
      "Epoch 41/50\n",
      "469/469 [==============================] - 31s 66ms/step - loss: 0.0936 - val_loss: 0.0927\n",
      "Epoch 42/50\n",
      "469/469 [==============================] - 31s 66ms/step - loss: 0.0936 - val_loss: 0.0926\n",
      "Epoch 43/50\n",
      "469/469 [==============================] - 32s 69ms/step - loss: 0.0934 - val_loss: 0.0923\n",
      "Epoch 44/50\n",
      "469/469 [==============================] - 32s 68ms/step - loss: 0.0933 - val_loss: 0.0921\n",
      "Epoch 45/50\n",
      "469/469 [==============================] - 32s 68ms/step - loss: 0.0933 - val_loss: 0.0923\n",
      "Epoch 46/50\n",
      "469/469 [==============================] - 32s 68ms/step - loss: 0.0932 - val_loss: 0.0920\n",
      "Epoch 47/50\n",
      "469/469 [==============================] - 31s 66ms/step - loss: 0.0931 - val_loss: 0.0918\n",
      "Epoch 48/50\n",
      "469/469 [==============================] - 32s 67ms/step - loss: 0.0930 - val_loss: 0.0919\n",
      "Epoch 49/50\n",
      "469/469 [==============================] - 31s 67ms/step - loss: 0.0929 - val_loss: 0.0919\n",
      "Epoch 50/50\n",
      "469/469 [==============================] - 31s 67ms/step - loss: 0.0928 - val_loss: 0.0916\n"
     ]
    }
   ],
   "source": [
    "from keras.callbacks import TensorBoard\n",
    "\n",
    "history = autoencoder.fit(x_train, x_train,\n",
    "                epochs=50,\n",
    "                batch_size=128,\n",
    "                shuffle=True,\n",
    "                validation_data=(x_test, x_test),\n",
    "                callbacks=[TensorBoard(log_dir='/tmp/autoencoder')])"
   ]
  },
  {
   "cell_type": "code",
   "execution_count": 20,
   "metadata": {},
   "outputs": [
    {
     "name": "stdout",
     "output_type": "stream",
     "text": [
      "dict_keys(['loss', 'val_loss'])\n"
     ]
    }
   ],
   "source": [
    "print(history.history.keys())"
   ]
  },
  {
   "cell_type": "code",
   "execution_count": 22,
   "metadata": {},
   "outputs": [
    {
     "data": {
      "image/png": "[encoded data removed]",
      "text/plain": [
       "<Figure size 432x288 with 1 Axes>"
      ]
     },
     "metadata": {
      "needs_background": "light"
     },
     "output_type": "display_data"
    }
   ],
   "source": [
    "# summarize history for loss\n",
    "plt.plot(history.history['loss'])\n",
    "plt.plot(history.history['val_loss'])\n",
    "plt.title('model loss')\n",
    "plt.ylabel('loss')\n",
    "plt.xlabel('epoch')\n",
    "plt.legend(['train', 'test'], loc='upper left')\n",
    "plt.show()"
   ]
  },
  {
   "cell_type": "markdown",
   "metadata": {},
   "source": [
    "In theory, the loss should be much less than our previous models. Since our loss from this convnet model is still about the same as previous models, we should maybe continue training until the loss plateaus."
   ]
  },
  {
   "cell_type": "markdown",
   "metadata": {},
   "source": [
    "# 5. Denoising\n",
    "The idea here is to use training image + noise as the input, and clean trianing image as the output. The encoder should then learn the representations of our desired image."
   ]
  },
  {
   "cell_type": "code",
   "execution_count": 23,
   "metadata": {},
   "outputs": [],
   "source": [
    "from keras.datasets import mnist\n",
    "import numpy as np\n",
    "\n",
    "(x_train, _), (x_test, _) = mnist.load_data()\n",
    "\n",
    "x_train = x_train.astype('float32') / 255.\n",
    "x_test = x_test.astype('float32') / 255.\n",
    "x_train = np.reshape(x_train, (len(x_train), 28, 28, 1))\n",
    "x_test = np.reshape(x_test, (len(x_test), 28, 28, 1))\n",
    "\n",
    "noise_factor = 0.5\n",
    "x_train_noisy = x_train + noise_factor * np.random.normal(loc=0.0, scale=1.0, size=x_train.shape) \n",
    "x_test_noisy = x_test + noise_factor * np.random.normal(loc=0.0, scale=1.0, size=x_test.shape) \n",
    "\n",
    "x_train_noisy = np.clip(x_train_noisy, 0., 1.)\n",
    "x_test_noisy = np.clip(x_test_noisy, 0., 1.)"
   ]
  },
  {
   "cell_type": "code",
   "execution_count": 24,
   "metadata": {},
   "outputs": [
    {
     "data": {
      "image/png": "[encoded data removed]",
      "text/plain": [
       "<Figure size 1440x144 with 10 Axes>"
      ]
     },
     "metadata": {
      "needs_background": "light"
     },
     "output_type": "display_data"
    }
   ],
   "source": [
    "# some examples of noisy digits\n",
    "n = 10\n",
    "plt.figure(figsize=(20, 2))\n",
    "for i in range(1, n + 1):\n",
    "    ax = plt.subplot(1, n, i)\n",
    "    plt.imshow(x_test_noisy[i].reshape(28, 28))\n",
    "    plt.gray()\n",
    "    ax.get_xaxis().set_visible(False)\n",
    "    ax.get_yaxis().set_visible(False)\n",
    "plt.show()"
   ]
  },
  {
   "cell_type": "markdown",
   "metadata": {},
   "source": [
    "We'll use a convolutional autoencoder once again, with more filters per layer"
   ]
  },
  {
   "cell_type": "code",
   "execution_count": null,
   "metadata": {},
   "outputs": [],
   "source": [
    "input_img = keras.Input(shape=(28, 28, 1))\n",
    "\n",
    "x = layers.Conv2D(32, (3, 3), activation='relu', padding='same')(input_img)\n",
    "x = layers.MaxPooling2D((2, 2), padding='same')(x)\n",
    "x = layers.Conv2D(32, (3, 3), activation='relu', padding='same')(x)\n",
    "encoded = layers.MaxPooling2D((2, 2), padding='same')(x)\n",
    "\n",
    "# At this point the representation is (7, 7, 32)\n",
    "\n",
    "x = layers.Conv2D(32, (3, 3), activation='relu', padding='same')(encoded)\n",
    "x = layers.UpSampling2D((2, 2))(x)\n",
    "x = layers.Conv2D(32, (3, 3), activation='relu', padding='same')(x)\n",
    "x = layers.UpSampling2D((2, 2))(x)\n",
    "decoded = layers.Conv2D(1, (3, 3), activation='sigmoid', padding='same')(x)\n",
    "\n",
    "autoencoder = keras.Model(input_img, decoded)\n",
    "autoencoder.compile(optimizer='adam', loss='binary_crossentropy')"
   ]
  },
  {
   "cell_type": "markdown",
   "metadata": {},
   "source": [
    "We can train this for multiple epochs, but I won't do it here, since it will take ~30 minutes or so. Francois got it to work pretty well on his run."
   ]
  },
  {
   "cell_type": "code",
   "execution_count": null,
   "metadata": {},
   "outputs": [],
   "source": [
    "history = autoencoder.fit(x_train_noisy, x_train,\n",
    "                epochs=100,\n",
    "                batch_size=128,\n",
    "                shuffle=True,\n",
    "                validation_data=(x_test_noisy, x_test),\n",
    "                callbacks=[TensorBoard(log_dir='/tmp/tb', histogram_freq=0, write_graph=False)])"
   ]
  },
  {
   "cell_type": "markdown",
   "metadata": {},
   "source": [
    "Expected results\n",
    "<img src=\"AE_denoised_digits.png\"/>\n"
   ]
  },
  {
   "cell_type": "markdown",
   "metadata": {},
   "source": [
    "# Wrapping Up\n",
    "Here, we discussed autoencoders for dimensionality reduction and denoising. A more modern varient of the autoencoder is the variational autoencoder (VAEs). VAEs are popular generative models, which we'll talk about in the next set of notes.\n",
    "\n",
    "In addition to autoencoders, we saw some new ways to interact with models in Keras:\n",
    "* We defined autoencoders to be input -> encoder -> decoder -> output\n",
    "* We can also define separate parts of the model as separate models, i.e.,\n",
    "```\n",
    "encoder = keras.Model(input_img, encoded)\n",
    "...\n",
    "encoded_input = keras.Input(shape=(encoding_dim,)) # encoded representations\n",
    "decoder_layer = autoencoder.layers[-1] #final layer; decoded representations\n",
    "decoder = keras.Model(encoded_input, decoder_layer(encoded_input))\n",
    "```\n",
    "* and run tensors through these models using `.predict()`\n",
    "```\n",
    "encoded_imgs = encoder.predict(x_test)\n",
    "decoded_imgs = decoder.predict(encoded_imgs)\n",
    "```"
   ]
  },
  {
   "cell_type": "markdown",
   "metadata": {},
   "source": [
    "### Monitoring training progress:\n",
    "We can use the TensorFlow backend and TensorBoard callback to monitor training progress.\n",
    "\n",
    "First, let's open up a terminal and start a TensorBoard server that will read logs stored at /tmp/autoencoder.\n",
    "```\n",
    "    tensorboard --logdir=/tmp/autoencoder\n",
    "```\n",
    "Then, train our model. In the callbacks list we pass an instance of the TensorBoard callback. After every epoch, this callback will write logs to `tmp/autoencoder` which can be read by our TensorBoard server. This allows us to monitor training in the TensorBoard web interface (by navighating to localhost:6006)\n",
    "\n",
    "The callback is passed as a parameter in `.fit()`:\n",
    "```\n",
    "    history = autoencoder.fit(x_train, x_train,\n",
    "                            epochs=50,\n",
    "                            batch_size=128,\n",
    "                            shuffle=True,\n",
    "                            validation_data=(x_test, x_test),\n",
    "                            callbacks=[TensorBoard(log_dir='/tmp/autoencoder')])\n",
    "```"
   ]
  },
  {
   "cell_type": "code",
   "execution_count": null,
   "metadata": {},
   "outputs": [],
   "source": []
  }
 ],
 "metadata": {
  "kernelspec": {
   "display_name": "Python 3",
   "language": "python",
   "name": "python3"
  },
  "language_info": {
   "codemirror_mode": {
    "name": "ipython",
    "version": 3
   },
   "file_extension": ".py",
   "mimetype": "text/x-python",
   "name": "python",
   "nbconvert_exporter": "python",
   "pygments_lexer": "ipython3",
   "version": "3.7.4"
  }
 },
 "nbformat": 4,
 "nbformat_minor": 4
}
