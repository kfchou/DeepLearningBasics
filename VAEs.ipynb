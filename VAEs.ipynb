{
 "cells": [
  {
   "cell_type": "markdown",
   "metadata": {},
   "source": [
    "# Variational autoencoders\n",
    "This is a continuation of the notes from [Francois Chollet's blog on autoencoders](https://blog.keras.io/building-autoencoders-in-keras.html)."
   ]
  },
  {
   "cell_type": "markdown",
   "metadata": {},
   "source": [
    "# Introduction\n",
    "VAEs are a slightly more modern and interesting take on autoencoders. Constraints are placed on the encoded representations being learned. More precisely, it is an autoencoder that **learns a latent variable model** for its input data. i.e., instead of letting your network learn an arbitrary function, your network learns the parameters of a probability distribution modeling your data. By sampling from this distribution, you can generate new input data samples, making VAEs **generative models**.\n",
    "\n",
    "Here's a [blog](https://towardsdatascience.com/understanding-variational-autoencoders-vaes-f70510919f73) by Joseph and Baptiste Rocca that explains the concept of VAEs in more detail."
   ]
  },
  {
   "cell_type": "code",
   "execution_count": null,
   "metadata": {},
   "outputs": [],
   "source": []
  }
 ],
 "metadata": {
  "kernelspec": {
   "display_name": "Python 3",
   "language": "python",
   "name": "python3"
  },
  "language_info": {
   "codemirror_mode": {
    "name": "ipython",
    "version": 3
   },
   "file_extension": ".py",
   "mimetype": "text/x-python",
   "name": "python",
   "nbconvert_exporter": "python",
   "pygments_lexer": "ipython3",
   "version": "3.7.4"
  }
 },
 "nbformat": 4,
 "nbformat_minor": 4
}
